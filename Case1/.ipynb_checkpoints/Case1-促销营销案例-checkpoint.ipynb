{
 "cells": [
  {
   "cell_type": "markdown",
   "metadata": {},
   "source": [
    "**什么是RFM模型？**"
   ]
  },
  {
   "cell_type": "markdown",
   "metadata": {},
   "source": [
    "RFM模型是一个被广泛使用的客户关系分析模型，主要以用户行为来区分客户，RFM分别是：R(Recency)-最近一次消费距现在的时长，F(Frequency)消费频率，消费次数，M(Monetary)消费金额。"
   ]
  },
  {
   "cell_type": "markdown",
   "metadata": {},
   "source": [
    "**怎么使用RFM模型来做预测？**"
   ]
  },
  {
   "cell_type": "markdown",
   "metadata": {},
   "source": [
    "通过以上3个指标可以在3个维度上区分出8组不同类别的用户。分别如下：![RFM-customers](./images/RFM-customers.jpg)"
   ]
  },
  {
   "cell_type": "markdown",
   "metadata": {},
   "source": [
    "**案例背景**"
   ]
  },
  {
   "cell_type": "markdown",
   "metadata": {},
   "source": [
    "一份客户的交易数据，包括交易ID，客户Id，交易时间，交易金额，交易类型，商家希望通过这份数据，对客户进行分类，为促销活动做出决策。"
   ]
  },
  {
   "cell_type": "code",
   "execution_count": 1,
   "metadata": {
    "collapsed": true
   },
   "outputs": [],
   "source": [
    "import pandas as pd\n",
    "import numpy as np"
   ]
  },
  {
   "cell_type": "code",
   "execution_count": 101,
   "metadata": {},
   "outputs": [
    {
     "data": {
      "text/html": [
       "<div>\n",
       "<style>\n",
       "    .dataframe thead tr:only-child th {\n",
       "        text-align: right;\n",
       "    }\n",
       "\n",
       "    .dataframe thead th {\n",
       "        text-align: left;\n",
       "    }\n",
       "\n",
       "    .dataframe tbody tr th {\n",
       "        vertical-align: top;\n",
       "    }\n",
       "</style>\n",
       "<table border=\"1\" class=\"dataframe\">\n",
       "  <thead>\n",
       "    <tr style=\"text-align: right;\">\n",
       "      <th></th>\n",
       "      <th>transID</th>\n",
       "      <th>cumid</th>\n",
       "      <th>time</th>\n",
       "      <th>amount</th>\n",
       "      <th>type_label</th>\n",
       "      <th>type</th>\n",
       "    </tr>\n",
       "  </thead>\n",
       "  <tbody>\n",
       "    <tr>\n",
       "      <th>0</th>\n",
       "      <td>9407</td>\n",
       "      <td>10001</td>\n",
       "      <td>14JUN09:17:58:34</td>\n",
       "      <td>199.0</td>\n",
       "      <td>正常</td>\n",
       "      <td>Normal</td>\n",
       "    </tr>\n",
       "    <tr>\n",
       "      <th>1</th>\n",
       "      <td>9625</td>\n",
       "      <td>10001</td>\n",
       "      <td>16JUN09:15:09:13</td>\n",
       "      <td>369.0</td>\n",
       "      <td>正常</td>\n",
       "      <td>Normal</td>\n",
       "    </tr>\n",
       "    <tr>\n",
       "      <th>2</th>\n",
       "      <td>11837</td>\n",
       "      <td>10001</td>\n",
       "      <td>01JUL09:14:50:36</td>\n",
       "      <td>369.0</td>\n",
       "      <td>正常</td>\n",
       "      <td>Normal</td>\n",
       "    </tr>\n",
       "    <tr>\n",
       "      <th>3</th>\n",
       "      <td>26629</td>\n",
       "      <td>10001</td>\n",
       "      <td>14DEC09:18:05:32</td>\n",
       "      <td>359.0</td>\n",
       "      <td>正常</td>\n",
       "      <td>Normal</td>\n",
       "    </tr>\n",
       "    <tr>\n",
       "      <th>4</th>\n",
       "      <td>30850</td>\n",
       "      <td>10001</td>\n",
       "      <td>12APR10:13:02:20</td>\n",
       "      <td>399.0</td>\n",
       "      <td>正常</td>\n",
       "      <td>Normal</td>\n",
       "    </tr>\n",
       "  </tbody>\n",
       "</table>\n",
       "</div>"
      ],
      "text/plain": [
       "   transID  cumid              time  amount type_label    type\n",
       "0     9407  10001  14JUN09:17:58:34   199.0         正常  Normal\n",
       "1     9625  10001  16JUN09:15:09:13   369.0         正常  Normal\n",
       "2    11837  10001  01JUL09:14:50:36   369.0         正常  Normal\n",
       "3    26629  10001  14DEC09:18:05:32   359.0         正常  Normal\n",
       "4    30850  10001  12APR10:13:02:20   399.0         正常  Normal"
      ]
     },
     "execution_count": 101,
     "metadata": {},
     "output_type": "execute_result"
    }
   ],
   "source": [
    "trad_flow = pd.read_csv('./dataset/RFM_TRAD_FLOW.csv',encoding='gbk')\n",
    "trad_flow.head()"
   ]
  },
  {
   "cell_type": "code",
   "execution_count": 102,
   "metadata": {},
   "outputs": [
    {
     "data": {
      "text/plain": [
       "(26662, 6)"
      ]
     },
     "execution_count": 102,
     "metadata": {},
     "output_type": "execute_result"
    }
   ],
   "source": [
    "trad_flow.shape  # 共26662条交易记录"
   ]
  },
  {
   "cell_type": "code",
   "execution_count": 103,
   "metadata": {},
   "outputs": [
    {
     "data": {
      "text/plain": [
       "1200"
      ]
     },
     "execution_count": 103,
     "metadata": {},
     "output_type": "execute_result"
    }
   ],
   "source": [
    "len(trad_flow.cumid.unique())  # 共1200 个客户id"
   ]
  },
  {
   "cell_type": "code",
   "execution_count": 104,
   "metadata": {},
   "outputs": [
    {
     "data": {
      "text/html": [
       "<div>\n",
       "<style>\n",
       "    .dataframe thead tr:only-child th {\n",
       "        text-align: right;\n",
       "    }\n",
       "\n",
       "    .dataframe thead th {\n",
       "        text-align: left;\n",
       "    }\n",
       "\n",
       "    .dataframe tbody tr th {\n",
       "        vertical-align: top;\n",
       "    }\n",
       "</style>\n",
       "<table border=\"1\" class=\"dataframe\">\n",
       "  <thead>\n",
       "    <tr style=\"text-align: right;\">\n",
       "      <th></th>\n",
       "      <th>transID</th>\n",
       "      <th>cumid</th>\n",
       "      <th>time</th>\n",
       "      <th>amount</th>\n",
       "      <th>type_label</th>\n",
       "      <th>type</th>\n",
       "      <th>new_time</th>\n",
       "    </tr>\n",
       "  </thead>\n",
       "  <tbody>\n",
       "    <tr>\n",
       "      <th>0</th>\n",
       "      <td>9407</td>\n",
       "      <td>10001</td>\n",
       "      <td>14JUN09:17:58:34</td>\n",
       "      <td>199.0</td>\n",
       "      <td>正常</td>\n",
       "      <td>Normal</td>\n",
       "      <td>2009-06-14 17:58:34</td>\n",
       "    </tr>\n",
       "    <tr>\n",
       "      <th>1</th>\n",
       "      <td>9625</td>\n",
       "      <td>10001</td>\n",
       "      <td>16JUN09:15:09:13</td>\n",
       "      <td>369.0</td>\n",
       "      <td>正常</td>\n",
       "      <td>Normal</td>\n",
       "      <td>2009-06-16 15:09:13</td>\n",
       "    </tr>\n",
       "    <tr>\n",
       "      <th>2</th>\n",
       "      <td>11837</td>\n",
       "      <td>10001</td>\n",
       "      <td>01JUL09:14:50:36</td>\n",
       "      <td>369.0</td>\n",
       "      <td>正常</td>\n",
       "      <td>Normal</td>\n",
       "      <td>2009-07-01 14:50:36</td>\n",
       "    </tr>\n",
       "    <tr>\n",
       "      <th>3</th>\n",
       "      <td>26629</td>\n",
       "      <td>10001</td>\n",
       "      <td>14DEC09:18:05:32</td>\n",
       "      <td>359.0</td>\n",
       "      <td>正常</td>\n",
       "      <td>Normal</td>\n",
       "      <td>2009-12-14 18:05:32</td>\n",
       "    </tr>\n",
       "    <tr>\n",
       "      <th>4</th>\n",
       "      <td>30850</td>\n",
       "      <td>10001</td>\n",
       "      <td>12APR10:13:02:20</td>\n",
       "      <td>399.0</td>\n",
       "      <td>正常</td>\n",
       "      <td>Normal</td>\n",
       "      <td>2010-04-12 13:02:20</td>\n",
       "    </tr>\n",
       "  </tbody>\n",
       "</table>\n",
       "</div>"
      ],
      "text/plain": [
       "   transID  cumid              time  amount type_label    type  \\\n",
       "0     9407  10001  14JUN09:17:58:34   199.0         正常  Normal   \n",
       "1     9625  10001  16JUN09:15:09:13   369.0         正常  Normal   \n",
       "2    11837  10001  01JUL09:14:50:36   369.0         正常  Normal   \n",
       "3    26629  10001  14DEC09:18:05:32   359.0         正常  Normal   \n",
       "4    30850  10001  12APR10:13:02:20   399.0         正常  Normal   \n",
       "\n",
       "             new_time  \n",
       "0 2009-06-14 17:58:34  \n",
       "1 2009-06-16 15:09:13  \n",
       "2 2009-07-01 14:50:36  \n",
       "3 2009-12-14 18:05:32  \n",
       "4 2010-04-12 13:02:20  "
      ]
     },
     "execution_count": 104,
     "metadata": {},
     "output_type": "execute_result"
    }
   ],
   "source": [
    "from datetime import datetime\n",
    "trad_flow['new_time'] = trad_flow.time.apply(lambda x:datetime.strptime(x,'%d%b%y:%H:%M:%S'))\n",
    "trad_flow.head()"
   ]
  },
  {
   "cell_type": "markdown",
   "metadata": {},
   "source": [
    "交易记录的最早时间是2009-05-14，最晚时间是2010-09-25，时间跨度是500天"
   ]
  },
  {
   "cell_type": "code",
   "execution_count": 69,
   "metadata": {},
   "outputs": [
    {
     "name": "stdout",
     "output_type": "stream",
     "text": [
      "2009-05-14 17:20:38\n",
      "2010-09-25 21:17:30\n",
      "499 days 03:56:52\n"
     ]
    }
   ],
   "source": [
    "print(trad_flow.new_time.min())\n",
    "print(trad_flow.new_time.max())\n",
    "print(trad_flow.new_time.max()-trad_flow.new_time.min())"
   ]
  },
  {
   "cell_type": "markdown",
   "metadata": {},
   "source": [
    "构建R特征，将每个客户的最近一次交易时间列出，转换成时间戳"
   ]
  },
  {
   "cell_type": "code",
   "execution_count": 106,
   "metadata": {},
   "outputs": [
    {
     "data": {
      "text/html": [
       "<div>\n",
       "<style>\n",
       "    .dataframe thead tr:only-child th {\n",
       "        text-align: right;\n",
       "    }\n",
       "\n",
       "    .dataframe thead th {\n",
       "        text-align: left;\n",
       "    }\n",
       "\n",
       "    .dataframe tbody tr th {\n",
       "        vertical-align: top;\n",
       "    }\n",
       "</style>\n",
       "<table border=\"1\" class=\"dataframe\">\n",
       "  <thead>\n",
       "    <tr style=\"text-align: right;\">\n",
       "      <th></th>\n",
       "      <th>new_time</th>\n",
       "    </tr>\n",
       "    <tr>\n",
       "      <th>cumid</th>\n",
       "      <th></th>\n",
       "    </tr>\n",
       "  </thead>\n",
       "  <tbody>\n",
       "    <tr>\n",
       "      <th>10001</th>\n",
       "      <td>1.284699e+09</td>\n",
       "    </tr>\n",
       "    <tr>\n",
       "      <th>10002</th>\n",
       "      <td>1.278129e+09</td>\n",
       "    </tr>\n",
       "    <tr>\n",
       "      <th>10003</th>\n",
       "      <td>1.282983e+09</td>\n",
       "    </tr>\n",
       "    <tr>\n",
       "      <th>10004</th>\n",
       "      <td>1.283057e+09</td>\n",
       "    </tr>\n",
       "    <tr>\n",
       "      <th>10005</th>\n",
       "      <td>1.282127e+09</td>\n",
       "    </tr>\n",
       "  </tbody>\n",
       "</table>\n",
       "</div>"
      ],
      "text/plain": [
       "           new_time\n",
       "cumid              \n",
       "10001  1.284699e+09\n",
       "10002  1.278129e+09\n",
       "10003  1.282983e+09\n",
       "10004  1.283057e+09\n",
       "10005  1.282127e+09"
      ]
     },
     "execution_count": 106,
     "metadata": {},
     "output_type": "execute_result"
    }
   ],
   "source": [
    "import time \n",
    "r_trans = trad_flow[['cumid','new_time']].groupby(['cumid']).max()\n",
    "r_trans.new_time = r_trans.new_time.apply(lambda x:time.mktime(x.timetuple()))\n",
    "r_trans.head()"
   ]
  },
  {
   "cell_type": "markdown",
   "metadata": {},
   "source": [
    "通过计算客户在过去时间内购买打折产品的次数占购买次数的比例，来表征客户对打折产品的偏好"
   ]
  },
  {
   "cell_type": "code",
   "execution_count": 107,
   "metadata": {},
   "outputs": [
    {
     "data": {
      "text/html": [
       "<div>\n",
       "<style>\n",
       "    .dataframe thead tr:only-child th {\n",
       "        text-align: right;\n",
       "    }\n",
       "\n",
       "    .dataframe thead th {\n",
       "        text-align: left;\n",
       "    }\n",
       "\n",
       "    .dataframe tbody tr th {\n",
       "        vertical-align: top;\n",
       "    }\n",
       "</style>\n",
       "<table border=\"1\" class=\"dataframe\">\n",
       "  <thead>\n",
       "    <tr style=\"text-align: right;\">\n",
       "      <th>type</th>\n",
       "      <th>Normal</th>\n",
       "      <th>Presented</th>\n",
       "      <th>Special_offer</th>\n",
       "      <th>returned_goods</th>\n",
       "      <th>interest</th>\n",
       "    </tr>\n",
       "    <tr>\n",
       "      <th>cumid</th>\n",
       "      <th></th>\n",
       "      <th></th>\n",
       "      <th></th>\n",
       "      <th></th>\n",
       "      <th></th>\n",
       "    </tr>\n",
       "  </thead>\n",
       "  <tbody>\n",
       "    <tr>\n",
       "      <th>10001</th>\n",
       "      <td>15.0</td>\n",
       "      <td>8.0</td>\n",
       "      <td>2.0</td>\n",
       "      <td>2.0</td>\n",
       "      <td>0.117647</td>\n",
       "    </tr>\n",
       "    <tr>\n",
       "      <th>10002</th>\n",
       "      <td>12.0</td>\n",
       "      <td>5.0</td>\n",
       "      <td>0.0</td>\n",
       "      <td>1.0</td>\n",
       "      <td>0.000000</td>\n",
       "    </tr>\n",
       "    <tr>\n",
       "      <th>10003</th>\n",
       "      <td>15.0</td>\n",
       "      <td>8.0</td>\n",
       "      <td>1.0</td>\n",
       "      <td>1.0</td>\n",
       "      <td>0.062500</td>\n",
       "    </tr>\n",
       "    <tr>\n",
       "      <th>10004</th>\n",
       "      <td>15.0</td>\n",
       "      <td>12.0</td>\n",
       "      <td>2.0</td>\n",
       "      <td>1.0</td>\n",
       "      <td>0.117647</td>\n",
       "    </tr>\n",
       "    <tr>\n",
       "      <th>10005</th>\n",
       "      <td>8.0</td>\n",
       "      <td>5.0</td>\n",
       "      <td>0.0</td>\n",
       "      <td>1.0</td>\n",
       "      <td>0.000000</td>\n",
       "    </tr>\n",
       "  </tbody>\n",
       "</table>\n",
       "</div>"
      ],
      "text/plain": [
       "type   Normal  Presented  Special_offer  returned_goods  interest\n",
       "cumid                                                            \n",
       "10001    15.0        8.0            2.0             2.0  0.117647\n",
       "10002    12.0        5.0            0.0             1.0  0.000000\n",
       "10003    15.0        8.0            1.0             1.0  0.062500\n",
       "10004    15.0       12.0            2.0             1.0  0.117647\n",
       "10005     8.0        5.0            0.0             1.0  0.000000"
      ]
     },
     "execution_count": 107,
     "metadata": {},
     "output_type": "execute_result"
    }
   ],
   "source": [
    "# 计算出每个客户，每种交易类型的次数\n",
    "f_trans = trad_flow[['cumid','type','transID']].groupby(['cumid','type']).count()\n",
    "f_trans = pd.pivot_table(f_trans,index='cumid',columns='type',values='transID')\n",
    "f_trans.fillna(0,inplace=True)\n",
    "f_trans['interest'] = f_trans.Special_offer/(f_trans.Normal+f_trans.Special_offer)\n",
    "f_trans.head()"
   ]
  },
  {
   "cell_type": "markdown",
   "metadata": {},
   "source": [
    "通过计算客户在过去一段时间内交易金额，来表征客户的价值信息。"
   ]
  },
  {
   "cell_type": "code",
   "execution_count": 108,
   "metadata": {},
   "outputs": [
    {
     "data": {
      "text/html": [
       "<div>\n",
       "<style>\n",
       "    .dataframe thead tr:only-child th {\n",
       "        text-align: right;\n",
       "    }\n",
       "\n",
       "    .dataframe thead th {\n",
       "        text-align: left;\n",
       "    }\n",
       "\n",
       "    .dataframe tbody tr th {\n",
       "        vertical-align: top;\n",
       "    }\n",
       "</style>\n",
       "<table border=\"1\" class=\"dataframe\">\n",
       "  <thead>\n",
       "    <tr style=\"text-align: right;\">\n",
       "      <th>type</th>\n",
       "      <th>Normal</th>\n",
       "      <th>Presented</th>\n",
       "      <th>Special_offer</th>\n",
       "      <th>returned_goods</th>\n",
       "      <th>real_value</th>\n",
       "    </tr>\n",
       "    <tr>\n",
       "      <th>cumid</th>\n",
       "      <th></th>\n",
       "      <th></th>\n",
       "      <th></th>\n",
       "      <th></th>\n",
       "      <th></th>\n",
       "    </tr>\n",
       "  </thead>\n",
       "  <tbody>\n",
       "    <tr>\n",
       "      <th>10001</th>\n",
       "      <td>3608.0</td>\n",
       "      <td>0.0</td>\n",
       "      <td>420.0</td>\n",
       "      <td>-694.0</td>\n",
       "      <td>3334.0</td>\n",
       "    </tr>\n",
       "    <tr>\n",
       "      <th>10002</th>\n",
       "      <td>1894.0</td>\n",
       "      <td>0.0</td>\n",
       "      <td>0.0</td>\n",
       "      <td>-242.0</td>\n",
       "      <td>1652.0</td>\n",
       "    </tr>\n",
       "    <tr>\n",
       "      <th>10003</th>\n",
       "      <td>3503.0</td>\n",
       "      <td>0.0</td>\n",
       "      <td>156.0</td>\n",
       "      <td>-224.0</td>\n",
       "      <td>3435.0</td>\n",
       "    </tr>\n",
       "    <tr>\n",
       "      <th>10004</th>\n",
       "      <td>2979.0</td>\n",
       "      <td>0.0</td>\n",
       "      <td>373.0</td>\n",
       "      <td>-40.0</td>\n",
       "      <td>3312.0</td>\n",
       "    </tr>\n",
       "    <tr>\n",
       "      <th>10005</th>\n",
       "      <td>2368.0</td>\n",
       "      <td>0.0</td>\n",
       "      <td>0.0</td>\n",
       "      <td>-249.0</td>\n",
       "      <td>2119.0</td>\n",
       "    </tr>\n",
       "  </tbody>\n",
       "</table>\n",
       "</div>"
      ],
      "text/plain": [
       "type   Normal  Presented  Special_offer  returned_goods  real_value\n",
       "cumid                                                              \n",
       "10001  3608.0        0.0          420.0          -694.0      3334.0\n",
       "10002  1894.0        0.0            0.0          -242.0      1652.0\n",
       "10003  3503.0        0.0          156.0          -224.0      3435.0\n",
       "10004  2979.0        0.0          373.0           -40.0      3312.0\n",
       "10005  2368.0        0.0            0.0          -249.0      2119.0"
      ]
     },
     "execution_count": 108,
     "metadata": {},
     "output_type": "execute_result"
    }
   ],
   "source": [
    "m_trans = trad_flow[['cumid','amount','type']].groupby(['cumid','type']).sum()\n",
    "m_trans = pd.pivot_table(m_trans,index='cumid',columns='type',values='amount')\n",
    "m_trans.fillna(0,inplace=True)\n",
    "# 计算出客户的实际消费金额Normal+Special_offer+returned_goods\n",
    "m_trans['real_value'] = m_trans.Normal+m_trans.Special_offer+m_trans.returned_goods\n",
    "m_trans.head()"
   ]
  },
  {
   "cell_type": "markdown",
   "metadata": {},
   "source": [
    "构建模型，建立客户分类，筛选目标客户"
   ]
  },
  {
   "cell_type": "code",
   "execution_count": 112,
   "metadata": {},
   "outputs": [
    {
     "data": {
      "text/html": [
       "<div>\n",
       "<style>\n",
       "    .dataframe thead tr:only-child th {\n",
       "        text-align: right;\n",
       "    }\n",
       "\n",
       "    .dataframe thead th {\n",
       "        text-align: left;\n",
       "    }\n",
       "\n",
       "    .dataframe tbody tr th {\n",
       "        vertical-align: top;\n",
       "    }\n",
       "</style>\n",
       "<table border=\"1\" class=\"dataframe\">\n",
       "  <thead>\n",
       "    <tr style=\"text-align: right;\">\n",
       "      <th></th>\n",
       "      <th>time</th>\n",
       "    </tr>\n",
       "    <tr>\n",
       "      <th>cumid</th>\n",
       "      <th></th>\n",
       "    </tr>\n",
       "  </thead>\n",
       "  <tbody>\n",
       "    <tr>\n",
       "      <th>10001</th>\n",
       "      <td>1.0</td>\n",
       "    </tr>\n",
       "    <tr>\n",
       "      <th>10002</th>\n",
       "      <td>0.0</td>\n",
       "    </tr>\n",
       "    <tr>\n",
       "      <th>10003</th>\n",
       "      <td>0.0</td>\n",
       "    </tr>\n",
       "    <tr>\n",
       "      <th>10004</th>\n",
       "      <td>0.0</td>\n",
       "    </tr>\n",
       "    <tr>\n",
       "      <th>10005</th>\n",
       "      <td>0.0</td>\n",
       "    </tr>\n",
       "  </tbody>\n",
       "</table>\n",
       "</div>"
      ],
      "text/plain": [
       "       time\n",
       "cumid      \n",
       "10001   1.0\n",
       "10002   0.0\n",
       "10003   0.0\n",
       "10004   0.0\n",
       "10005   0.0"
      ]
     },
     "execution_count": 112,
     "metadata": {},
     "output_type": "execute_result"
    }
   ],
   "source": [
    "# 对R特征列使用等频分箱\n",
    "from sklearn.preprocessing import Binarizer\n",
    "r_threshold = pd.qcut(r_trans.new_time,2,retbins=True)[1][1]\n",
    "binarizer = Binarizer(threshold=r_threshold)\n",
    "r_trans_q = binarizer.transform(r_trans.new_time.values.reshape(-1,1))\n",
    "r_trans_q = pd.DataFrame(r_trans_q,index=r_trans.index,columns=['time'])\n",
    "r_trans_q.head()"
   ]
  },
  {
   "cell_type": "code",
   "execution_count": 113,
   "metadata": {},
   "outputs": [
    {
     "data": {
      "text/html": [
       "<div>\n",
       "<style>\n",
       "    .dataframe thead tr:only-child th {\n",
       "        text-align: right;\n",
       "    }\n",
       "\n",
       "    .dataframe thead th {\n",
       "        text-align: left;\n",
       "    }\n",
       "\n",
       "    .dataframe tbody tr th {\n",
       "        vertical-align: top;\n",
       "    }\n",
       "</style>\n",
       "<table border=\"1\" class=\"dataframe\">\n",
       "  <thead>\n",
       "    <tr style=\"text-align: right;\">\n",
       "      <th></th>\n",
       "      <th>interest</th>\n",
       "    </tr>\n",
       "    <tr>\n",
       "      <th>cumid</th>\n",
       "      <th></th>\n",
       "    </tr>\n",
       "  </thead>\n",
       "  <tbody>\n",
       "    <tr>\n",
       "      <th>10001</th>\n",
       "      <td>1.0</td>\n",
       "    </tr>\n",
       "    <tr>\n",
       "      <th>10002</th>\n",
       "      <td>0.0</td>\n",
       "    </tr>\n",
       "    <tr>\n",
       "      <th>10003</th>\n",
       "      <td>0.0</td>\n",
       "    </tr>\n",
       "    <tr>\n",
       "      <th>10004</th>\n",
       "      <td>1.0</td>\n",
       "    </tr>\n",
       "    <tr>\n",
       "      <th>10005</th>\n",
       "      <td>0.0</td>\n",
       "    </tr>\n",
       "  </tbody>\n",
       "</table>\n",
       "</div>"
      ],
      "text/plain": [
       "       interest\n",
       "cumid          \n",
       "10001       1.0\n",
       "10002       0.0\n",
       "10003       0.0\n",
       "10004       1.0\n",
       "10005       0.0"
      ]
     },
     "execution_count": 113,
     "metadata": {},
     "output_type": "execute_result"
    }
   ],
   "source": [
    "# 对F特征列使用等频分箱\n",
    "f_threshold = pd.qcut(f_trans.interest,2,retbins=True)[1][1]\n",
    "binarizer = Binarizer(threshold=f_threshold)\n",
    "f_trans_q = binarizer.transform(f_trans.interest.values.reshape(-1,1))\n",
    "f_trans_q = pd.DataFrame(f_trans_q,index=f_trans.index,columns=['interest'])\n",
    "f_trans_q.head()"
   ]
  },
  {
   "cell_type": "code",
   "execution_count": 114,
   "metadata": {},
   "outputs": [
    {
     "data": {
      "text/html": [
       "<div>\n",
       "<style>\n",
       "    .dataframe thead tr:only-child th {\n",
       "        text-align: right;\n",
       "    }\n",
       "\n",
       "    .dataframe thead th {\n",
       "        text-align: left;\n",
       "    }\n",
       "\n",
       "    .dataframe tbody tr th {\n",
       "        vertical-align: top;\n",
       "    }\n",
       "</style>\n",
       "<table border=\"1\" class=\"dataframe\">\n",
       "  <thead>\n",
       "    <tr style=\"text-align: right;\">\n",
       "      <th></th>\n",
       "      <th>value</th>\n",
       "    </tr>\n",
       "    <tr>\n",
       "      <th>cumid</th>\n",
       "      <th></th>\n",
       "    </tr>\n",
       "  </thead>\n",
       "  <tbody>\n",
       "    <tr>\n",
       "      <th>10001</th>\n",
       "      <td>1.0</td>\n",
       "    </tr>\n",
       "    <tr>\n",
       "      <th>10002</th>\n",
       "      <td>0.0</td>\n",
       "    </tr>\n",
       "    <tr>\n",
       "      <th>10003</th>\n",
       "      <td>1.0</td>\n",
       "    </tr>\n",
       "    <tr>\n",
       "      <th>10004</th>\n",
       "      <td>1.0</td>\n",
       "    </tr>\n",
       "    <tr>\n",
       "      <th>10005</th>\n",
       "      <td>0.0</td>\n",
       "    </tr>\n",
       "  </tbody>\n",
       "</table>\n",
       "</div>"
      ],
      "text/plain": [
       "       value\n",
       "cumid       \n",
       "10001    1.0\n",
       "10002    0.0\n",
       "10003    1.0\n",
       "10004    1.0\n",
       "10005    0.0"
      ]
     },
     "execution_count": 114,
     "metadata": {},
     "output_type": "execute_result"
    }
   ],
   "source": [
    "# 对M特征列使用等频分箱\n",
    "m_threshold = pd.qcut(m_trans.real_value,2,retbins=True)[1][1]\n",
    "binarizer = Binarizer(threshold=m_threshold)\n",
    "m_trans_q = binarizer.transform(m_trans.real_value.values.reshape(-1,1))\n",
    "m_trans_q = pd.DataFrame(m_trans_q,index=m_trans.index,columns=['value'])\n",
    "m_trans_q.head()"
   ]
  },
  {
   "cell_type": "code",
   "execution_count": 115,
   "metadata": {},
   "outputs": [
    {
     "data": {
      "text/html": [
       "<div>\n",
       "<style>\n",
       "    .dataframe thead tr:only-child th {\n",
       "        text-align: right;\n",
       "    }\n",
       "\n",
       "    .dataframe thead th {\n",
       "        text-align: left;\n",
       "    }\n",
       "\n",
       "    .dataframe tbody tr th {\n",
       "        vertical-align: top;\n",
       "    }\n",
       "</style>\n",
       "<table border=\"1\" class=\"dataframe\">\n",
       "  <thead>\n",
       "    <tr style=\"text-align: right;\">\n",
       "      <th></th>\n",
       "      <th>time</th>\n",
       "      <th>interest</th>\n",
       "      <th>value</th>\n",
       "    </tr>\n",
       "    <tr>\n",
       "      <th>cumid</th>\n",
       "      <th></th>\n",
       "      <th></th>\n",
       "      <th></th>\n",
       "    </tr>\n",
       "  </thead>\n",
       "  <tbody>\n",
       "    <tr>\n",
       "      <th>10001</th>\n",
       "      <td>1.0</td>\n",
       "      <td>1.0</td>\n",
       "      <td>1.0</td>\n",
       "    </tr>\n",
       "    <tr>\n",
       "      <th>10002</th>\n",
       "      <td>0.0</td>\n",
       "      <td>0.0</td>\n",
       "      <td>0.0</td>\n",
       "    </tr>\n",
       "    <tr>\n",
       "      <th>10003</th>\n",
       "      <td>0.0</td>\n",
       "      <td>0.0</td>\n",
       "      <td>1.0</td>\n",
       "    </tr>\n",
       "    <tr>\n",
       "      <th>10004</th>\n",
       "      <td>0.0</td>\n",
       "      <td>1.0</td>\n",
       "      <td>1.0</td>\n",
       "    </tr>\n",
       "    <tr>\n",
       "      <th>10005</th>\n",
       "      <td>0.0</td>\n",
       "      <td>0.0</td>\n",
       "      <td>0.0</td>\n",
       "    </tr>\n",
       "  </tbody>\n",
       "</table>\n",
       "</div>"
      ],
      "text/plain": [
       "       time  interest  value\n",
       "cumid                       \n",
       "10001   1.0       1.0    1.0\n",
       "10002   0.0       0.0    0.0\n",
       "10003   0.0       0.0    1.0\n",
       "10004   0.0       1.0    1.0\n",
       "10005   0.0       0.0    0.0"
      ]
     },
     "execution_count": 115,
     "metadata": {},
     "output_type": "execute_result"
    }
   ],
   "source": [
    "# 构建RFM \n",
    "trans_rfm = pd.concat([r_trans_q,f_trans_q,m_trans_q],axis=1)\n",
    "trans_rfm.head()"
   ]
  },
  {
   "cell_type": "code",
   "execution_count": 116,
   "metadata": {},
   "outputs": [
    {
     "data": {
      "text/html": [
       "<div>\n",
       "<style>\n",
       "    .dataframe thead tr:only-child th {\n",
       "        text-align: right;\n",
       "    }\n",
       "\n",
       "    .dataframe thead th {\n",
       "        text-align: left;\n",
       "    }\n",
       "\n",
       "    .dataframe tbody tr th {\n",
       "        vertical-align: top;\n",
       "    }\n",
       "</style>\n",
       "<table border=\"1\" class=\"dataframe\">\n",
       "  <thead>\n",
       "    <tr style=\"text-align: right;\">\n",
       "      <th></th>\n",
       "      <th>time</th>\n",
       "      <th>interest</th>\n",
       "      <th>value</th>\n",
       "      <th>label</th>\n",
       "    </tr>\n",
       "    <tr>\n",
       "      <th>cumid</th>\n",
       "      <th></th>\n",
       "      <th></th>\n",
       "      <th></th>\n",
       "      <th></th>\n",
       "    </tr>\n",
       "  </thead>\n",
       "  <tbody>\n",
       "    <tr>\n",
       "      <th>10001</th>\n",
       "      <td>1.0</td>\n",
       "      <td>1.0</td>\n",
       "      <td>1.0</td>\n",
       "      <td>有兴趣-高价值-活跃</td>\n",
       "    </tr>\n",
       "    <tr>\n",
       "      <th>10002</th>\n",
       "      <td>0.0</td>\n",
       "      <td>0.0</td>\n",
       "      <td>0.0</td>\n",
       "      <td>无兴趣-低价值-沉默</td>\n",
       "    </tr>\n",
       "    <tr>\n",
       "      <th>10003</th>\n",
       "      <td>0.0</td>\n",
       "      <td>0.0</td>\n",
       "      <td>1.0</td>\n",
       "      <td>无兴趣-高价值-沉默</td>\n",
       "    </tr>\n",
       "    <tr>\n",
       "      <th>10004</th>\n",
       "      <td>0.0</td>\n",
       "      <td>1.0</td>\n",
       "      <td>1.0</td>\n",
       "      <td>有兴趣-高价值-沉默</td>\n",
       "    </tr>\n",
       "    <tr>\n",
       "      <th>10005</th>\n",
       "      <td>0.0</td>\n",
       "      <td>0.0</td>\n",
       "      <td>0.0</td>\n",
       "      <td>无兴趣-低价值-沉默</td>\n",
       "    </tr>\n",
       "  </tbody>\n",
       "</table>\n",
       "</div>"
      ],
      "text/plain": [
       "       time  interest  value       label\n",
       "cumid                                   \n",
       "10001   1.0       1.0    1.0  有兴趣-高价值-活跃\n",
       "10002   0.0       0.0    0.0  无兴趣-低价值-沉默\n",
       "10003   0.0       0.0    1.0  无兴趣-高价值-沉默\n",
       "10004   0.0       1.0    1.0  有兴趣-高价值-沉默\n",
       "10005   0.0       0.0    0.0  无兴趣-低价值-沉默"
      ]
     },
     "execution_count": 116,
     "metadata": {},
     "output_type": "execute_result"
    }
   ],
   "source": [
    "# 定义标签\n",
    "label = {\n",
    "    (0,0,0):'无兴趣-低价值-沉默',\n",
    "    (1,0,0):'有兴趣-低价值-沉默',\n",
    "    (1,0,1):'有兴趣-低价值-活跃',\n",
    "    (0,0,1):'无兴趣-低价值-活跃',\n",
    "    (0,1,0):'无兴趣-高价值-沉默',\n",
    "    (1,1,0):'有兴趣-高价值-沉默',\n",
    "    (1,1,1):'有兴趣-高价值-活跃',\n",
    "    (0,1,1):'无兴趣-高价值-活跃'\n",
    "}\n",
    "trans_rfm['label'] = trans_rfm[['interest','value','time']].apply(lambda x:label[(x[0],x[1],x[2])],axis=1)\n",
    "trans_rfm.head()"
   ]
  }
 ],
 "metadata": {
  "kernelspec": {
   "display_name": "Python 3",
   "language": "python",
   "name": "python3"
  },
  "language_info": {
   "codemirror_mode": {
    "name": "ipython",
    "version": 3
   },
   "file_extension": ".py",
   "mimetype": "text/x-python",
   "name": "python",
   "nbconvert_exporter": "python",
   "pygments_lexer": "ipython3",
   "version": "3.6.1"
  }
 },
 "nbformat": 4,
 "nbformat_minor": 2
}
